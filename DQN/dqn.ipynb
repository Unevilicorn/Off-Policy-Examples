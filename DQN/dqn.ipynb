{
 "cells": [
  {
   "cell_type": "code",
   "execution_count": 1,
   "metadata": {},
   "outputs": [],
   "source": [
    "import torch\n",
    "import gym\n",
    "import random\n",
    "from collections import deque, namedtuple\n",
    "from matplotlib import pyplot as plt\n",
    "import numpy as np\n",
    "import os\n",
    "import time\n"
   ]
  },
  {
   "cell_type": "code",
   "execution_count": 2,
   "metadata": {},
   "outputs": [],
   "source": [
    "replayItem = namedtuple('replayItem', ('state', 'action', 'reward', 'next_state', 'done'))\n",
    "class ReplayMemory:\n",
    "    def __init__(self, capacity) -> None:\n",
    "        self.memory = deque(maxlen=capacity)\n",
    "\n",
    "    def append(self, *args) -> None:\n",
    "        self.memory.append(replayItem(*args))\n",
    "\n",
    "    def sample(self, batch_size) -> list:\n",
    "        return random.sample(self.memory, batch_size)\n",
    "    \n",
    "    def __len__(self) -> int:\n",
    "        return len(self.memory)\n",
    "\n",
    "import reverb\n",
    "\n",
    "class ReverbMemory:\n",
    "    def __init__(self, capacity) -> None:\n",
    "        self.table_name = 'priority_table'\n",
    "        self.server = reverb.Server(tables=[\n",
    "            reverb.Table(\n",
    "                name=self.table_name,\n",
    "                sampler=reverb.selectors.Uniform(),\n",
    "                remover=reverb.selectors.Fifo(),\n",
    "                max_size=capacity,\n",
    "                rate_limiter=reverb.rate_limiters.MinSize(1),\n",
    "            )\n",
    "        ])\n",
    "        self.writer_client = reverb.client.Client(f'localhost:{self.server.port}')\n",
    "        self.reader_client = reverb.client.Client(f'localhost:{self.server.port}')\n",
    "\n",
    "    def append(self, *args) -> None:\n",
    "        self.writer_client.insert(replayItem(*args), priorities={self.table_name: 1.0})\n",
    "\n",
    "    def sample(self, batch_size) -> list:\n",
    "        samples = self.reader_client.sample(self.table_name, num_samples=batch_size)\n",
    "        result = [sample[0].data for sample in samples]\n",
    "        return result\n",
    "\n",
    "    def __len__(self) -> int:\n",
    "        return self.writer_client.server_info()['priority_table'].current_size"
   ]
  },
  {
   "cell_type": "code",
   "execution_count": 3,
   "metadata": {},
   "outputs": [],
   "source": [
    "class DQN(torch.nn.Module):\n",
    "    def __init__(self, layer_sizes) -> None:\n",
    "        super().__init__()\n",
    "        self.layers = torch.nn.Sequential()\n",
    "        for i in range(len(layer_sizes)-1):\n",
    "            self.layers.add_module(f'layer{i}', torch.nn.Linear(layer_sizes[i], layer_sizes[i+1]))\n",
    "            if i < len(layer_sizes)-2:\n",
    "                self.layers.add_module(f'relu{i}', torch.nn.LeakyReLU())\n",
    "\n",
    "    def forward(self, x)->torch.Tensor:\n",
    "        return self.layers(x)"
   ]
  },
  {
   "cell_type": "code",
   "execution_count": 4,
   "metadata": {},
   "outputs": [],
   "source": [
    "def epsilon_greedy_action(epsilon, action_rewards)->int:\n",
    "    if random.random() < epsilon:\n",
    "        return random.randint(0, len(action_rewards)-1)\n",
    "    else:\n",
    "        return torch.argmax(action_rewards).item()"
   ]
  },
  {
   "cell_type": "code",
   "execution_count": 5,
   "metadata": {},
   "outputs": [],
   "source": [
    "def loss_func(policy_model, target_model, states, actions, rewards, next_states, dones, gamma):\n",
    "    states = torch.tensor(states, dtype=torch.float32)\n",
    "    next_states = torch.tensor(next_states, dtype=torch.float32)\n",
    "\n",
    "    actions = torch.from_numpy(np.array(actions, dtype=np.int64)).reshape(-1, 1)\n",
    "    rewards = torch.from_numpy(np.array(rewards, dtype=np.float32)).reshape(-1, 1)\n",
    "    dones = torch.from_numpy(np.array(dones, dtype=np.float32)).reshape(-1, 1)\n",
    "    \n",
    "    q_values = policy_model.forward(states).gather(1, actions)\n",
    "    next_q_values = target_model.forward(next_states).max(dim=1, keepdim=True)[0]\n",
    "    expected_q_values = rewards + gamma * next_q_values * (1 - dones)\n",
    "    loss = torch.nn.functional.mse_loss(q_values, expected_q_values)\n",
    "    return loss"
   ]
  },
  {
   "cell_type": "code",
   "execution_count": 6,
   "metadata": {},
   "outputs": [],
   "source": [
    "def action_remapping(action, biggest):\n",
    "    # remap from 1 to biggest to -2 to 2\n",
    "    return (4 * action / (biggest - 1)) - 2"
   ]
  },
  {
   "cell_type": "code",
   "execution_count": 7,
   "metadata": {},
   "outputs": [
    {
     "name": "stderr",
     "output_type": "stream",
     "text": [
      "[reverb/cc/platform/tfrecord_checkpointer.cc:162]  Initializing TFRecordCheckpointer in /tmp/tmpak0pdftk.\n",
      "[reverb/cc/platform/tfrecord_checkpointer.cc:565] Loading latest checkpoint from /tmp/tmpak0pdftk\n",
      "[reverb/cc/platform/default/server.cc:71] Started replay server on port 43449\n",
      "\u001b[34m\u001b[1mwandb\u001b[0m: Currently logged in as: \u001b[33munevilicorn\u001b[0m (\u001b[33munevilicorn-org\u001b[0m). Use \u001b[1m`wandb login --relogin`\u001b[0m to force relogin\n"
     ]
    },
    {
     "data": {
      "text/html": [
       "Tracking run with wandb version 0.17.0"
      ],
      "text/plain": [
       "<IPython.core.display.HTML object>"
      ]
     },
     "metadata": {},
     "output_type": "display_data"
    },
    {
     "data": {
      "text/html": [
       "Run data is saved locally in <code>/media/unevilicorn/Shared/Assignment/Year_4/FYP/base_implementation/DQN/wandb/run-20240518_142015-zp3phvna</code>"
      ],
      "text/plain": [
       "<IPython.core.display.HTML object>"
      ]
     },
     "metadata": {},
     "output_type": "display_data"
    },
    {
     "data": {
      "text/html": [
       "Syncing run <strong><a href='https://wandb.ai/unevilicorn-org/dqn-pendulum/runs/zp3phvna' target=\"_blank\">fluent-star-22</a></strong> to <a href='https://wandb.ai/unevilicorn-org/dqn-pendulum' target=\"_blank\">Weights & Biases</a> (<a href='https://wandb.me/run' target=\"_blank\">docs</a>)<br/>"
      ],
      "text/plain": [
       "<IPython.core.display.HTML object>"
      ]
     },
     "metadata": {},
     "output_type": "display_data"
    },
    {
     "data": {
      "text/html": [
       " View project at <a href='https://wandb.ai/unevilicorn-org/dqn-pendulum' target=\"_blank\">https://wandb.ai/unevilicorn-org/dqn-pendulum</a>"
      ],
      "text/plain": [
       "<IPython.core.display.HTML object>"
      ]
     },
     "metadata": {},
     "output_type": "display_data"
    },
    {
     "data": {
      "text/html": [
       " View run at <a href='https://wandb.ai/unevilicorn-org/dqn-pendulum/runs/zp3phvna' target=\"_blank\">https://wandb.ai/unevilicorn-org/dqn-pendulum/runs/zp3phvna</a>"
      ],
      "text/plain": [
       "<IPython.core.display.HTML object>"
      ]
     },
     "metadata": {},
     "output_type": "display_data"
    },
    {
     "name": "stderr",
     "output_type": "stream",
     "text": [
      "/home/unevilicorn/.local/lib/python3.10/site-packages/gym/utils/passive_env_checker.py:233: DeprecationWarning: `np.bool8` is a deprecated alias for `np.bool_`.  (Deprecated NumPy 1.24)\n",
      "  if not isinstance(terminated, (bool, np.bool8)):\n",
      "[reverb/cc/client.cc:165] Sampler and server are owned by the same process (324227) so Table priority_table is accessed directly without gRPC.\n",
      "/tmp/ipykernel_324227/4231479964.py:2: UserWarning: Creating a tensor from a list of numpy.ndarrays is extremely slow. Please consider converting the list to a single numpy.ndarray with numpy.array() before converting to a tensor. (Triggered internally at ../torch/csrc/utils/tensor_new.cpp:274.)\n",
      "  states = torch.tensor(states, dtype=torch.float32)\n",
      "[reverb/cc/client.cc:165] Sampler and server are owned by the same process (324227) so Table priority_table is accessed directly without gRPC.\n",
      "[reverb/cc/client.cc:165] Sampler and server are owned by the same process (324227) so Table priority_table is accessed directly without gRPC.\n",
      "[reverb/cc/client.cc:165] Sampler and server are owned by the same process (324227) so Table priority_table is accessed directly without gRPC.\n",
      "[reverb/cc/client.cc:165] Sampler and server are owned by the same process (324227) so Table priority_table is accessed directly without gRPC.\n",
      "[reverb/cc/client.cc:165] Sampler and server are owned by the same process (324227) so Table priority_table is accessed directly without gRPC.\n",
      "[reverb/cc/client.cc:165] Sampler and server are owned by the same process (324227) so Table priority_table is accessed directly without gRPC.\n"
     ]
    },
    {
     "name": "stdout",
     "output_type": "stream",
     "text": [
      "Episode 0 finished with reward -1540.991556374072\n"
     ]
    },
    {
     "name": "stderr",
     "output_type": "stream",
     "text": [
      "[reverb/cc/client.cc:165] Sampler and server are owned by the same process (324227) so Table priority_table is accessed directly without gRPC.\n",
      "[reverb/cc/client.cc:165] Sampler and server are owned by the same process (324227) so Table priority_table is accessed directly without gRPC.\n"
     ]
    },
    {
     "name": "stdout",
     "output_type": "stream",
     "text": [
      "Episode 1 finished with reward -757.305140902295\n",
      "Episode 2 finished with reward -1503.4253100823676\n"
     ]
    },
    {
     "name": "stderr",
     "output_type": "stream",
     "text": [
      "[reverb/cc/client.cc:165] Sampler and server are owned by the same process (324227) so Table priority_table is accessed directly without gRPC.\n"
     ]
    },
    {
     "name": "stdout",
     "output_type": "stream",
     "text": [
      "Episode 3 finished with reward -1710.6506858076896\n",
      "Episode 4 finished with reward -1307.3105566609465\n"
     ]
    },
    {
     "name": "stderr",
     "output_type": "stream",
     "text": [
      "[reverb/cc/client.cc:165] Sampler and server are owned by the same process (324227) so Table priority_table is accessed directly without gRPC.\n"
     ]
    },
    {
     "name": "stdout",
     "output_type": "stream",
     "text": [
      "Episode 5 finished with reward -1065.2503474138919\n",
      "Episode 6 finished with reward -1228.9315591360069\n",
      "Episode 7 finished with reward -1157.5872090565342\n",
      "Episode 8 finished with reward -1130.1568356131302\n",
      "Episode 9 finished with reward -870.1842960670433\n"
     ]
    },
    {
     "name": "stderr",
     "output_type": "stream",
     "text": [
      "[reverb/cc/client.cc:165] Sampler and server are owned by the same process (324227) so Table priority_table is accessed directly without gRPC.\n"
     ]
    },
    {
     "name": "stdout",
     "output_type": "stream",
     "text": [
      "Episode 10 finished with reward -961.6278935172963\n",
      "Episode 11 finished with reward -1428.8597275829754\n",
      "Episode 12 finished with reward -1169.8683559617107\n",
      "Episode 13 finished with reward -810.1038795097627\n",
      "Episode 14 finished with reward -1172.7431404416393\n",
      "Episode 15 finished with reward -1300.2822336982465\n",
      "Episode 16 finished with reward -1150.6227885429132\n",
      "Episode 17 finished with reward -914.4421773588956\n",
      "Episode 18 finished with reward -1073.2510680312475\n",
      "Episode 19 finished with reward -1067.0275356100622\n",
      "Episode 20 finished with reward -1044.628964604329\n"
     ]
    },
    {
     "name": "stderr",
     "output_type": "stream",
     "text": [
      "[reverb/cc/client.cc:165] Sampler and server are owned by the same process (324227) so Table priority_table is accessed directly without gRPC.\n"
     ]
    },
    {
     "name": "stdout",
     "output_type": "stream",
     "text": [
      "Episode 21 finished with reward -856.9787685742943\n",
      "Episode 22 finished with reward -1035.827413053952\n",
      "Episode 23 finished with reward -1574.6587073554638\n",
      "Episode 24 finished with reward -1378.5074430065301\n",
      "Episode 25 finished with reward -1781.1738868654927\n",
      "Episode 26 finished with reward -1004.2996675078944\n",
      "Episode 27 finished with reward -1528.563010337341\n",
      "Episode 28 finished with reward -1004.9049853456942\n",
      "Episode 29 finished with reward -1066.9637764046665\n",
      "Episode 30 finished with reward -1340.6525365114187\n",
      "Episode 31 finished with reward -1073.6942772541756\n",
      "Episode 32 finished with reward -1477.1057586351035\n",
      "Episode 33 finished with reward -1169.1116396696\n",
      "Episode 34 finished with reward -1190.3232116683362\n",
      "Episode 35 finished with reward -1065.0395622849078\n",
      "Episode 36 finished with reward -1091.5416295060977\n",
      "Episode 37 finished with reward -1080.7281391480708\n",
      "Episode 38 finished with reward -1265.4233006820668\n",
      "Episode 39 finished with reward -1153.9665938734022\n",
      "Episode 40 finished with reward -1343.8510190702486\n"
     ]
    },
    {
     "name": "stderr",
     "output_type": "stream",
     "text": [
      "[reverb/cc/client.cc:165] Sampler and server are owned by the same process (324227) so Table priority_table is accessed directly without gRPC.\n"
     ]
    },
    {
     "name": "stdout",
     "output_type": "stream",
     "text": [
      "Episode 41 finished with reward -1103.2585250141017\n",
      "Episode 42 finished with reward -1236.7120381927743\n",
      "Episode 43 finished with reward -1473.1440280714023\n",
      "Episode 44 finished with reward -1288.2248830644048\n",
      "Episode 45 finished with reward -1566.812588553398\n",
      "Episode 46 finished with reward -1202.158498720023\n",
      "Episode 47 finished with reward -1218.5953681253093\n",
      "Episode 48 finished with reward -1040.4603570255904\n",
      "Episode 49 finished with reward -1697.8390107001892\n",
      "Episode 50 finished with reward -1595.4571050218278\n",
      "Episode 51 finished with reward -1179.6255206562978\n",
      "Episode 52 finished with reward -1376.4698394399438\n",
      "Episode 53 finished with reward -1230.7413667246406\n",
      "Episode 54 finished with reward -1356.9640473461789\n",
      "Episode 55 finished with reward -1156.8628747304026\n",
      "Episode 56 finished with reward -1383.020088400464\n",
      "Episode 57 finished with reward -1292.9284238535718\n",
      "Episode 58 finished with reward -1339.6657735736055\n",
      "Episode 59 finished with reward -1567.1174670210721\n",
      "Episode 60 finished with reward -1478.9285843324437\n",
      "Episode 61 finished with reward -1362.940318776611\n",
      "Episode 62 finished with reward -1348.49602696635\n",
      "Episode 63 finished with reward -1185.2014931751426\n",
      "Episode 64 finished with reward -1167.7143916942287\n",
      "Episode 65 finished with reward -1297.3494899496254\n",
      "Episode 66 finished with reward -1199.882778735744\n",
      "Episode 67 finished with reward -1260.7131023059546\n",
      "Episode 68 finished with reward -1154.2068801610828\n",
      "Episode 69 finished with reward -1200.759727475439\n",
      "Episode 70 finished with reward -1250.4644800055642\n",
      "Episode 71 finished with reward -1137.4368050506096\n",
      "Episode 72 finished with reward -1140.782455345338\n",
      "Episode 73 finished with reward -1266.124399476366\n",
      "Episode 74 finished with reward -1062.5482204187\n",
      "Episode 75 finished with reward -1241.9612450443447\n",
      "Episode 76 finished with reward -1281.2919467257057\n",
      "Episode 77 finished with reward -1267.401256075068\n",
      "Episode 78 finished with reward -1257.8853943077827\n",
      "Episode 79 finished with reward -1231.4500957958978\n",
      "Episode 80 finished with reward -1195.9086149469153\n",
      "Episode 81 finished with reward -1221.8838619158087\n"
     ]
    },
    {
     "name": "stderr",
     "output_type": "stream",
     "text": [
      "[reverb/cc/client.cc:165] Sampler and server are owned by the same process (324227) so Table priority_table is accessed directly without gRPC.\n"
     ]
    },
    {
     "name": "stdout",
     "output_type": "stream",
     "text": [
      "Episode 82 finished with reward -1347.2167304841873\n",
      "Episode 83 finished with reward -1061.2680500430408\n",
      "Episode 84 finished with reward -1486.8102187107431\n",
      "Episode 85 finished with reward -1168.1092134279872\n",
      "Episode 86 finished with reward -1168.8994575125507\n",
      "Episode 87 finished with reward -1320.8843465820923\n",
      "Episode 88 finished with reward -1199.7036305528231\n",
      "Episode 89 finished with reward -1402.690685232011\n",
      "Episode 90 finished with reward -1346.4277934812026\n",
      "Episode 91 finished with reward -1137.7004075604495\n",
      "Episode 92 finished with reward -1150.103196333958\n",
      "Episode 93 finished with reward -1557.8019463419407\n",
      "Episode 94 finished with reward -1134.2329478240804\n",
      "Episode 95 finished with reward -1092.0509844120058\n",
      "Episode 96 finished with reward -1215.2168322349803\n",
      "Episode 97 finished with reward -1475.2855476150191\n",
      "Episode 98 finished with reward -1268.7076495285341\n",
      "Episode 99 finished with reward -1178.9155256970735\n",
      "Episode 100 finished with reward -1363.944888011616\n",
      "Episode 101 finished with reward -1021.7522078950225\n",
      "Episode 102 finished with reward -1219.6940252555144\n",
      "Episode 103 finished with reward -1518.0905868498332\n",
      "Episode 104 finished with reward -1252.1038796477033\n",
      "Episode 105 finished with reward -1223.3111784731757\n",
      "Episode 106 finished with reward -1026.3301337969108\n",
      "Episode 107 finished with reward -1209.9921999734954\n",
      "Episode 108 finished with reward -1370.481845051206\n",
      "Episode 109 finished with reward -1045.644778168438\n",
      "Episode 110 finished with reward -1186.2958404185733\n",
      "Episode 111 finished with reward -1394.0100112312537\n",
      "Episode 112 finished with reward -1255.1424748472168\n",
      "Episode 113 finished with reward -1026.0531009221042\n",
      "Episode 114 finished with reward -1278.6404865501588\n",
      "Episode 115 finished with reward -1326.8021636610927\n",
      "Episode 116 finished with reward -1349.908103684522\n",
      "Episode 117 finished with reward -1014.78414984848\n",
      "Episode 118 finished with reward -1066.1656356526828\n",
      "Episode 119 finished with reward -1102.417802935481\n",
      "Episode 120 finished with reward -1203.7651684154896\n",
      "Episode 121 finished with reward -1588.4928409144024\n",
      "Episode 122 finished with reward -1133.5271444277055\n",
      "Episode 123 finished with reward -1226.7006593705441\n",
      "Episode 124 finished with reward -1047.3085919428493\n",
      "Episode 125 finished with reward -1123.8255645105976\n",
      "Episode 126 finished with reward -972.9658279769528\n",
      "Episode 127 finished with reward -1166.9561587741152\n",
      "Episode 128 finished with reward -1279.740621844248\n",
      "Episode 129 finished with reward -1397.8872400671949\n",
      "Episode 130 finished with reward -1191.2351924994086\n",
      "Episode 131 finished with reward -1286.4124531294528\n",
      "Episode 132 finished with reward -1048.731326161037\n",
      "Episode 133 finished with reward -1114.1727992979056\n",
      "Episode 134 finished with reward -1164.327965528946\n",
      "Episode 135 finished with reward -1145.1100817017598\n",
      "Episode 136 finished with reward -1297.809209143256\n",
      "Episode 137 finished with reward -1070.1698435589885\n",
      "Episode 138 finished with reward -1128.6601053632012\n",
      "Episode 139 finished with reward -1087.7135781629763\n",
      "Episode 140 finished with reward -1230.6578933997373\n",
      "Episode 141 finished with reward -1231.290139212871\n",
      "Episode 142 finished with reward -1358.7184329563058\n",
      "Episode 143 finished with reward -868.741178217958\n",
      "Episode 144 finished with reward -1486.1288374570681\n",
      "Episode 145 finished with reward -1128.2696231042432\n",
      "Episode 146 finished with reward -1207.0624054902173\n",
      "Episode 147 finished with reward -1037.1666436323399\n",
      "Episode 148 finished with reward -1280.2390052156645\n",
      "Episode 149 finished with reward -1018.4672437536059\n",
      "Episode 150 finished with reward -1239.1882688798116\n",
      "Episode 151 finished with reward -1161.5146863468628\n",
      "Episode 152 finished with reward -1226.1781875906381\n",
      "Episode 153 finished with reward -1214.8331577896342\n",
      "Episode 154 finished with reward -1069.195608760719\n",
      "Episode 155 finished with reward -1124.1885477694843\n",
      "Episode 156 finished with reward -1299.5653148552526\n",
      "Episode 157 finished with reward -1274.2505071680373\n",
      "Episode 158 finished with reward -893.6632237499175\n",
      "Episode 159 finished with reward -1049.0842704922584\n",
      "Episode 160 finished with reward -1368.2268320353048\n",
      "Episode 161 finished with reward -1036.5970377161914\n",
      "Episode 162 finished with reward -975.3677942561758\n",
      "Episode 163 finished with reward -1200.571512902211\n",
      "Episode 164 finished with reward -1038.5091163139175\n"
     ]
    },
    {
     "name": "stderr",
     "output_type": "stream",
     "text": [
      "[reverb/cc/client.cc:165] Sampler and server are owned by the same process (324227) so Table priority_table is accessed directly without gRPC.\n"
     ]
    },
    {
     "name": "stdout",
     "output_type": "stream",
     "text": [
      "Episode 165 finished with reward -1350.0967143292667\n",
      "Episode 166 finished with reward -1220.2511895116543\n",
      "Episode 167 finished with reward -1353.9036966890378\n",
      "Episode 168 finished with reward -1183.4906885313017\n",
      "Episode 169 finished with reward -1549.6342537406554\n",
      "Episode 170 finished with reward -1219.4126462556294\n",
      "Episode 171 finished with reward -1042.1556582829026\n",
      "Episode 172 finished with reward -1106.6204180030977\n",
      "Episode 173 finished with reward -1063.47625959584\n",
      "Episode 174 finished with reward -1236.7388772681024\n",
      "Episode 175 finished with reward -1278.1450666474798\n",
      "Episode 176 finished with reward -1054.902415960438\n",
      "Episode 177 finished with reward -1086.7353047301194\n",
      "Episode 178 finished with reward -1204.064960065509\n",
      "Episode 179 finished with reward -1262.9822762254107\n",
      "Episode 180 finished with reward -1190.382038948331\n",
      "Episode 181 finished with reward -889.0748425716092\n",
      "Episode 182 finished with reward -1105.3368770724767\n",
      "Episode 183 finished with reward -1093.5848150153815\n",
      "Episode 184 finished with reward -1686.9235212635813\n",
      "Episode 185 finished with reward -1494.4476039415176\n",
      "Episode 186 finished with reward -1167.4112896068805\n",
      "Episode 187 finished with reward -1102.0661840845082\n",
      "Episode 188 finished with reward -1009.2610753773291\n",
      "Episode 189 finished with reward -1056.0867325040465\n",
      "Episode 190 finished with reward -1314.5755287123143\n",
      "Episode 191 finished with reward -1076.4472456708145\n",
      "Episode 192 finished with reward -1037.5800369093597\n",
      "Episode 193 finished with reward -1157.9292538895143\n",
      "Episode 194 finished with reward -1007.4444031125425\n",
      "Episode 195 finished with reward -1039.1348373270894\n",
      "Episode 196 finished with reward -1180.8705384665095\n",
      "Episode 197 finished with reward -1063.8728940300502\n",
      "Episode 198 finished with reward -1191.1909191565803\n",
      "Episode 199 finished with reward -1261.2623629520342\n"
     ]
    },
    {
     "data": {
      "application/vnd.jupyter.widget-view+json": {
       "model_id": "48e8b72aeaf54972adbe6eb0ccb16764",
       "version_major": 2,
       "version_minor": 0
      },
      "text/plain": [
       "VBox(children=(Label(value='0.002 MB of 0.002 MB uploaded\\r'), FloatProgress(value=1.0, max=1.0)))"
      ]
     },
     "metadata": {},
     "output_type": "display_data"
    },
    {
     "data": {
      "text/html": [
       "<style>\n",
       "    table.wandb td:nth-child(1) { padding: 0 10px; text-align: left ; width: auto;} td:nth-child(2) {text-align: left ; width: 100%}\n",
       "    .wandb-row { display: flex; flex-direction: row; flex-wrap: wrap; justify-content: flex-start; width: 100% }\n",
       "    .wandb-col { display: flex; flex-direction: column; flex-basis: 100%; flex: 1; padding: 10px; }\n",
       "    </style>\n",
       "<div class=\"wandb-row\"><div class=\"wandb-col\"><h3>Run history:</h3><br/><table class=\"wandb\"><tr><td>compile_time</td><td>▁</td></tr><tr><td>execution_time</td><td>▁</td></tr><tr><td>reward</td><td>█▆▃▄▇▁▆▆▆▂▅▅▄▅▅▅▅▄▅▃▆▅▄▆▂▅▆▆▇▆▅▄▅▄▆▆▆▆▅▅</td></tr></table><br/></div><div class=\"wandb-col\"><h3>Run summary:</h3><br/><table class=\"wandb\"><tr><td>compile_time</td><td>0.56229</td></tr><tr><td>execution_time</td><td>470.0449</td></tr><tr><td>reward</td><td>-1261.26236</td></tr></table><br/></div></div>"
      ],
      "text/plain": [
       "<IPython.core.display.HTML object>"
      ]
     },
     "metadata": {},
     "output_type": "display_data"
    },
    {
     "data": {
      "text/html": [
       " View run <strong style=\"color:#cdcd00\">fluent-star-22</strong> at: <a href='https://wandb.ai/unevilicorn-org/dqn-pendulum/runs/zp3phvna' target=\"_blank\">https://wandb.ai/unevilicorn-org/dqn-pendulum/runs/zp3phvna</a><br/> View project at: <a href='https://wandb.ai/unevilicorn-org/dqn-pendulum' target=\"_blank\">https://wandb.ai/unevilicorn-org/dqn-pendulum</a><br/>Synced 5 W&B file(s), 0 media file(s), 0 artifact file(s) and 0 other file(s)"
      ],
      "text/plain": [
       "<IPython.core.display.HTML object>"
      ]
     },
     "metadata": {},
     "output_type": "display_data"
    },
    {
     "data": {
      "text/html": [
       "Find logs at: <code>./wandb/run-20240518_142015-zp3phvna/logs</code>"
      ],
      "text/plain": [
       "<IPython.core.display.HTML object>"
      ]
     },
     "metadata": {},
     "output_type": "display_data"
    }
   ],
   "source": [
    "env = gym.make('Pendulum-v1')\n",
    "\n",
    "tau = 0.01\n",
    "gamma = 0.99\n",
    "epsilon = 1.0\n",
    "epsilon_min = 0.001\n",
    "epsilon_decay = 0.99\n",
    "batch_size = 128\n",
    "memory_size = 1000000\n",
    "num_episodes = 200\n",
    "target_update_rate = 4\n",
    "compiled = True\n",
    "        \n",
    "input_shape = env.observation_space.shape\n",
    "output_shape = 9 #env.action_space.n\n",
    "hideen_layers = [32, 32, 32]\n",
    "\n",
    "gradient_clipping_value = 1\n",
    "\n",
    "model_shape = [*input_shape, *hideen_layers, output_shape]\n",
    "\n",
    "\n",
    "# memory = ReplayMemory(memory_size)\n",
    "memory = ReverbMemory(memory_size)\n",
    "policy_model = DQN(model_shape)\n",
    "target_model = DQN(model_shape)\n",
    "target_model.load_state_dict(policy_model.state_dict())\n",
    "optimizer = torch.optim.Adam(policy_model.parameters(), lr=1e-4)\n",
    "\n",
    "\n",
    "os.environ[\"WANDB_NOTEBOOK_NAME\"] = \"dqn.ipynb\"\n",
    "\n",
    "import wandb\n",
    "\n",
    "wandb.init(\n",
    "    project=\"dqn-pendulum\",\n",
    "    config={\n",
    "        \"type\": \"Self-Implemented DQN\",\n",
    "        \"batch_size\": batch_size,\n",
    "        \"buffer_type\": \"Reverb\",\n",
    "        \"compiled\": compiled,\n",
    "    }\n",
    ")\n",
    "\n",
    "start_time = time.time()\n",
    "\n",
    "compile_end_time = time.time()\n",
    "\n",
    "if compiled:\n",
    "    policy_model = torch.compile(policy_model)\n",
    "    target_model = torch.compile(target_model)\n",
    "    compile_end_time = time.time()\n",
    "\n",
    "wandb.log({'compile_time': compile_end_time - start_time})\n",
    "\n",
    "  \n",
    "episode_steps = []\n",
    "rewards_tracker = []\n",
    "for i in range(num_episodes):\n",
    "    state, _ = env.reset()\n",
    "    steps = 0\n",
    "    rewards_tracker.append([])\n",
    "    while True:\n",
    "        steps+=1\n",
    "        qs = policy_model.forward(torch.Tensor(state))\n",
    "        action = epsilon_greedy_action(epsilon, qs)\n",
    "        # pendulum remaps actions to [-2, 2]\n",
    "        real_action = action_remapping(action, output_shape)\n",
    "        next_observation, reward, done, trunc, info = env.step([real_action])\n",
    "\n",
    "        memory.append(state, action, reward, next_observation, done)\n",
    "        state = next_observation\n",
    "        \n",
    "        rewards_tracker[-1].append(reward)\n",
    "\n",
    "        if done or trunc:\n",
    "            break\n",
    "        \n",
    "        if len(memory) > batch_size:\n",
    "            batch = memory.sample(batch_size)\n",
    "            states, actions, rewards, next_states, dones = zip(*batch)\n",
    "            loss = loss_func(policy_model, target_model, states, actions, rewards, next_states, dones, gamma)\n",
    "            \n",
    "            policy_model.zero_grad()\n",
    "            loss.backward()\n",
    "\n",
    "            # gradient clipping\n",
    "            # torch.nn.utils.clip_grad_norm_(policy_model.parameters(), gradient_clipping_value)\n",
    "            optimizer.step()\n",
    "            \n",
    "            if steps % target_update_rate == 0:\n",
    "                target_model.load_state_dict(policy_model.state_dict())\n",
    "                # soft update\n",
    "                # for target_param, policy_param in zip(target_model.parameters(), policy_model.parameters()):\n",
    "                    # target_param.data.copy_(target_param.data * (1.0 - tau) + policy_param.data * tau)\n",
    "            \n",
    "    epsilon = max(epsilon_min, epsilon_decay * epsilon)\n",
    "    episode_steps.append(steps)\n",
    "    print(f\"Episode {i} finished with reward {sum(rewards_tracker[-1])}\")\n",
    "    wandb.log({'reward': sum(rewards_tracker[-1])})        \n",
    "\n",
    "execution_time_end = time.time()\n",
    "wandb.log({'execution_time': execution_time_end - start_time})\n",
    "wandb.finish()"
   ]
  },
  {
   "cell_type": "code",
   "execution_count": 8,
   "metadata": {},
   "outputs": [
    {
     "data": {
      "image/png": "[encoded data removed]",
      "text/plain": [
       "<Figure size 640x480 with 1 Axes>"
      ]
     },
     "metadata": {},
     "output_type": "display_data"
    }
   ],
   "source": [
    "sums = [sum(rewards) for rewards in rewards_tracker]\n",
    "plt.plot(sums)\n",
    "window = 5\n",
    "plt.plot([sum(sums[i:i+window])/window for i in range(len(sums)-window)])\n",
    "plt.show()"
   ]
  },
  {
   "cell_type": "code",
   "execution_count": 9,
   "metadata": {},
   "outputs": [],
   "source": [
    "# plt.plot(episode_steps)"
   ]
  }
 ],
 "metadata": {
  "kernelspec": {
   "display_name": "rl",
   "language": "python",
   "name": "python3"
  },
  "language_info": {
   "codemirror_mode": {
    "name": "ipython",
    "version": 3
   },
   "file_extension": ".py",
   "mimetype": "text/x-python",
   "name": "python",
   "nbconvert_exporter": "python",
   "pygments_lexer": "ipython3",
   "version": "3.10.14"
  }
 },
 "nbformat": 4,
 "nbformat_minor": 2
}
