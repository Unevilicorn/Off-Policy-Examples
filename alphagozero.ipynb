{
 "cells": [
  {
   "cell_type": "code",
   "execution_count": 35,
   "metadata": {},
   "outputs": [],
   "source": [
    "import torch\n",
    "import numpy as np\n",
    "import gym\n",
    "from collections import deque, namedtuple\n",
    "import random\n",
    "from matplotlib import pyplot as plt\n",
    "import numpy as np"
   ]
  },
  {
   "cell_type": "code",
   "execution_count": 36,
   "metadata": {},
   "outputs": [],
   "source": [
    "class ResidualBlock(torch.nn.Module):\n",
    "    def __init__(self, input_dims, n_filters):\n",
    "        super().__init__()\n",
    "        self.layers = torch.nn.Sequential(\n",
    "            torch.nn.Conv2d(input_dims, n_filters, kernel_size=3, stride=1, padding=1),\n",
    "            torch.nn.BatchNorm2d(n_filters),\n",
    "            torch.nn.ReLU(),\n",
    "            torch.nn.Conv2d(n_filters, n_filters, kernel_size=3, stride=1, padding=1),\n",
    "            torch.nn.BatchNorm2d(n_filters),\n",
    "            torch.nn.ReLU(),\n",
    "        )\n",
    "        self.shortcut = torch.nn.Sequential(\n",
    "            torch.nn.Conv2d(input_dims, n_filters, kernel_size=1, stride=1),\n",
    "            torch.nn.BatchNorm2d(n_filters),\n",
    "        )\n",
    "        self.relu = torch.nn.ReLU()\n",
    "\n",
    "    def forward(self, x):\n",
    "        return self.relu(self.layers(x) + self.shortcut(x))\n",
    "\n",
    "\n",
    "class DNN(torch.nn.Module):\n",
    "    def __init__(self, board_size, input_dims):\n",
    "        super().__init__()\n",
    "        n_filters = 256\n",
    "        \n",
    "        self.main_path = torch.nn.Sequential(\n",
    "            torch.nn.Conv2d(input_dims[0], 256, kernel_size=3, stride=1),\n",
    "            torch.nn.BatchNorm2d(n_filters),\n",
    "            torch.nn.ReLU(),\n",
    "            ResidualBlock(n_filters, n_filters),\n",
    "            ResidualBlock(n_filters, n_filters),\n",
    "            ResidualBlock(n_filters, n_filters),\n",
    "            ResidualBlock(n_filters, n_filters),\n",
    "            ResidualBlock(n_filters, n_filters),\n",
    "        )\n",
    "        \n",
    "        \n",
    "        self.policy = torch.nn.Sequential(\n",
    "            torch.nn.Conv2d(n_filters, 2, kernel_size=1, stride=1),\n",
    "            torch.nn.ReLU(),\n",
    "            torch.nn.Flatten(),\n",
    "            torch.nn.Linear((board_size-2)**2 * 2, board_size ** 2 + 1),\n",
    "            torch.nn.Softmax(dim=1),\n",
    "        )\n",
    "        \n",
    "        self.value = torch.nn.Sequential(\n",
    "            torch.nn.Conv2d(n_filters, 1, kernel_size=1, stride=1),\n",
    "            torch.nn.BatchNorm2d(1),\n",
    "            torch.nn.ReLU(),\n",
    "            torch.nn.Flatten(),\n",
    "            torch.nn.Linear((board_size-2)**2, 256),\n",
    "            torch.nn.ReLU(),\n",
    "            torch.nn.Linear(256, 1),\n",
    "            torch.nn.Tanh(),\n",
    "        )\n",
    "        \n",
    "    def forward(self, state):\n",
    "        x = self.main_path(state)\n",
    "        policy = self.policy(x)\n",
    "        value = self.value(x)\n",
    "        return policy, value\n",
    "        "
   ]
  },
  {
   "cell_type": "code",
   "execution_count": 37,
   "metadata": {},
   "outputs": [],
   "source": [
    "class AlphaGoZero:\n",
    "    def __init__(self, env, board_size=19, device='cpu'):\n",
    "        self.env = env\n",
    "        self.device = device\n",
    "        \n",
    "        input_dims = env.observation_space.shape\n",
    "        \n",
    "        \n",
    "        \n",
    "        self.dnn = DNN(board_size, input_dims).to(device)\n",
    "        \n",
    "        \n",
    "        pass\n",
    "    \n",
    "    def train(self, iterations):\n",
    "        state = self.env.reset()\n",
    "        \n",
    "        state = torch.from_numpy(state).float().to(self.device)\n",
    "        state = torch.stack([state] * 3, dim=0)\n",
    "        print(state.shape)\n",
    "        policy, value = self.dnn(state)\n",
    "        print(policy.shape, value.shape)\n",
    "        \n",
    "        pass"
   ]
  },
  {
   "cell_type": "code",
   "execution_count": 38,
   "metadata": {},
   "outputs": [
    {
     "name": "stdout",
     "output_type": "stream",
     "text": [
      "torch.Size([3, 6, 19, 19])\n",
      "torch.Size([3, 362]) torch.Size([3, 1])\n"
     ]
    }
   ],
   "source": [
    "SIZE = 7\n",
    "\n",
    "device = 'cuda' if torch.cuda.is_available() else 'cpu'\n",
    "\n",
    "env = gym.make('gym_go:go-v0', size=7, komi=0, reward_method='real')\n",
    "alphago_zero = AlphaGoZero(env, board_size=7, device=device)\n",
    "alphago_zero.train(100)"
   ]
  }
 ],
 "metadata": {
  "kernelspec": {
   "display_name": "rl",
   "language": "python",
   "name": "python3"
  },
  "language_info": {
   "codemirror_mode": {
    "name": "ipython",
    "version": 3
   },
   "file_extension": ".py",
   "mimetype": "text/x-python",
   "name": "python",
   "nbconvert_exporter": "python",
   "pygments_lexer": "ipython3",
   "version": "3.10.0"
  }
 },
 "nbformat": 4,
 "nbformat_minor": 2
}
